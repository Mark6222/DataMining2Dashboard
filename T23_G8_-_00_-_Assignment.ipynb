{
 "cells": [
  {
   "cell_type": "markdown",
   "metadata": {},
   "source": [
    "# T23_G8 - 00 - Assignment\n",
    "\n",
    "* Create assignment tree. \n",
    "* Download the required datafiles and documentation.\n",
    "* Generate a zip file of your assignment files to upload to Moodle.\n",
    "\n",
    "There is no need to edit this notebook, you should just run all cells to setup assignment tree at start and again at end to generate the archive to upload to [Moodle](https://moodle.wit.ie/mod/assign/view.php?id=4469268) when done."
   ]
  },
  {
   "cell_type": "markdown",
   "metadata": {},
   "source": [
    "## Setup"
   ]
  },
  {
   "cell_type": "code",
   "execution_count": null,
   "metadata": {},
   "outputs": [],
   "source": [
    "import os\n",
    "import glob\n",
    "from zipfile import ZipFile"
   ]
  },
  {
   "cell_type": "markdown",
   "metadata": {},
   "source": [
    "## Assignment Setup"
   ]
  },
  {
   "cell_type": "code",
   "execution_count": 2,
   "metadata": {},
   "outputs": [],
   "source": [
    "for d in ['orig/SPSS', 'orig/extra', 'orig/docs', 'data', 'app']: \n",
    "    os.makedirs(d, exist_ok=True)"
   ]
  },
  {
   "cell_type": "code",
   "execution_count": null,
   "metadata": {},
   "outputs": [],
   "source": [
    "FILES = [\n",
    "    'docs/T23_User_Guide_International_Database.pdf',\n",
    "    'docs/T23_G8_Codebook.xlsx',\n",
    "    'extra/TIMSS_2023_National_Report_Ireland.pdf',\n",
    "    'T23_G8_-_01_-_Import.ipynb',\n",
    "] + [\n",
    "    f'SPSS/{f}irlm8.sav' for f in ['bcg','bsa','bsg','bsp','bsr','bst','btm','bts']\n",
    "]"
   ]
  },
  {
   "cell_type": "code",
   "execution_count": 4,
   "metadata": {},
   "outputs": [
    {
     "name": "stdout",
     "output_type": "stream",
     "text": [
      "Downloading remote file docs/T23_User_Guide_International_Database.pdf\n",
      "Downloading remote file docs/T23_G8_Codebook.xlsx\n",
      "Downloading remote file extra/TIMSS_2023_National_Report_Ireland.pdf\n",
      "Downloading remote file T23_G8_-_01_-_Import.ipynb\n",
      "Downloading remote file SPSS/bcgirlm8.sav\n",
      "Downloading remote file SPSS/bsairlm8.sav\n",
      "Downloading remote file SPSS/bsgirlm8.sav\n",
      "Downloading remote file SPSS/bspirlm8.sav\n",
      "Downloading remote file SPSS/bsrirlm8.sav\n",
      "Downloading remote file SPSS/bstirlm8.sav\n",
      "Downloading remote file SPSS/btmirlm8.sav\n",
      "Downloading remote file SPSS/btsirlm8.sav\n"
     ]
    }
   ],
   "source": [
    "for filename in FILES:\n",
    "    source = f\"https://setu-datamining2.github.io/live/resources/TIMSS/{filename}\"\n",
    "    target = f\"orig/{filename}\"\n",
    "    if not os.path.isfile(target):\n",
    "        print (f\"Downloading remote file {filename}\", sep=\"\")\n",
    "        import urllib.request\n",
    "        urllib.request.urlretrieve(source, target)\n",
    "    else:\n",
    "        print(f\"Using local copy of {filename}\")\n"
   ]
  },
  {
   "cell_type": "code",
   "execution_count": null,
   "metadata": {},
   "outputs": [],
   "source": [
    "target = 'app/streamlit_app.py' \n",
    "content = \"\"\"\n",
    "import streamlit as st\n",
    "st.header('TIMSS Dataset Viewer')\n",
    "\n",
    "st.write('OK rest is up to you ...')\n",
    "\n",
    "\"\"\"\n",
    "\n",
    "if not os.path.isfile(target):\n",
    "    with open(target, 'wt') as f:\n",
    "        f.write(content)\n"
   ]
  },
  {
   "cell_type": "markdown",
   "metadata": {},
   "source": [
    "## Load Data"
   ]
  },
  {
   "cell_type": "code",
   "execution_count": 20,
   "metadata": {},
   "outputs": [
    {
     "data": {
      "text/html": [
       "<div>\n",
       "<style scoped>\n",
       "    .dataframe tbody tr th:only-of-type {\n",
       "        vertical-align: middle;\n",
       "    }\n",
       "\n",
       "    .dataframe tbody tr th {\n",
       "        vertical-align: top;\n",
       "    }\n",
       "\n",
       "    .dataframe thead th {\n",
       "        text-align: right;\n",
       "    }\n",
       "</style>\n",
       "<table border=\"1\" class=\"dataframe\">\n",
       "  <thead>\n",
       "    <tr style=\"text-align: right;\">\n",
       "      <th></th>\n",
       "      <th>CTY</th>\n",
       "      <th>IDCNTRY</th>\n",
       "      <th>IDPOP</th>\n",
       "      <th>IDGRADER</th>\n",
       "      <th>IDGRADE</th>\n",
       "      <th>ITASSESS</th>\n",
       "      <th>IDBOOK</th>\n",
       "      <th>IDSCHOOL</th>\n",
       "      <th>IDCLASS</th>\n",
       "      <th>IDSTUD</th>\n",
       "      <th>...</th>\n",
       "      <th>BSDMLOWP</th>\n",
       "      <th>BSDSLOWP</th>\n",
       "      <th>BSDMZERP</th>\n",
       "      <th>BSDSZERP</th>\n",
       "      <th>BSDMCORP</th>\n",
       "      <th>BSDSCORP</th>\n",
       "      <th>BSDMMISP</th>\n",
       "      <th>BSDSMISP</th>\n",
       "      <th>VERSION</th>\n",
       "      <th>SCOPE</th>\n",
       "    </tr>\n",
       "  </thead>\n",
       "  <tbody>\n",
       "    <tr>\n",
       "      <th>0</th>\n",
       "      <td>IRL</td>\n",
       "      <td>372.0</td>\n",
       "      <td>2.0</td>\n",
       "      <td>2.0</td>\n",
       "      <td>8.0</td>\n",
       "      <td>1.0</td>\n",
       "      <td>1.0</td>\n",
       "      <td>5001.0</td>\n",
       "      <td>500101.0</td>\n",
       "      <td>50010101.0</td>\n",
       "      <td>...</td>\n",
       "      <td>2.0</td>\n",
       "      <td>2.0</td>\n",
       "      <td>2.0</td>\n",
       "      <td>2.0</td>\n",
       "      <td>72.72727</td>\n",
       "      <td>72.72727</td>\n",
       "      <td>0.00000</td>\n",
       "      <td>0.00000</td>\n",
       "      <td>4.0</td>\n",
       "      <td>1.0</td>\n",
       "    </tr>\n",
       "    <tr>\n",
       "      <th>1</th>\n",
       "      <td>IRL</td>\n",
       "      <td>372.0</td>\n",
       "      <td>2.0</td>\n",
       "      <td>2.0</td>\n",
       "      <td>8.0</td>\n",
       "      <td>1.0</td>\n",
       "      <td>9.0</td>\n",
       "      <td>5001.0</td>\n",
       "      <td>500101.0</td>\n",
       "      <td>50010102.0</td>\n",
       "      <td>...</td>\n",
       "      <td>2.0</td>\n",
       "      <td>2.0</td>\n",
       "      <td>2.0</td>\n",
       "      <td>2.0</td>\n",
       "      <td>60.71429</td>\n",
       "      <td>78.78788</td>\n",
       "      <td>0.00000</td>\n",
       "      <td>0.00000</td>\n",
       "      <td>4.0</td>\n",
       "      <td>1.0</td>\n",
       "    </tr>\n",
       "    <tr>\n",
       "      <th>2</th>\n",
       "      <td>IRL</td>\n",
       "      <td>372.0</td>\n",
       "      <td>2.0</td>\n",
       "      <td>2.0</td>\n",
       "      <td>8.0</td>\n",
       "      <td>1.0</td>\n",
       "      <td>2.0</td>\n",
       "      <td>5001.0</td>\n",
       "      <td>500101.0</td>\n",
       "      <td>50010103.0</td>\n",
       "      <td>...</td>\n",
       "      <td>2.0</td>\n",
       "      <td>2.0</td>\n",
       "      <td>2.0</td>\n",
       "      <td>2.0</td>\n",
       "      <td>16.12903</td>\n",
       "      <td>35.29412</td>\n",
       "      <td>0.00000</td>\n",
       "      <td>0.00000</td>\n",
       "      <td>4.0</td>\n",
       "      <td>1.0</td>\n",
       "    </tr>\n",
       "    <tr>\n",
       "      <th>3</th>\n",
       "      <td>IRL</td>\n",
       "      <td>372.0</td>\n",
       "      <td>2.0</td>\n",
       "      <td>2.0</td>\n",
       "      <td>8.0</td>\n",
       "      <td>1.0</td>\n",
       "      <td>10.0</td>\n",
       "      <td>5001.0</td>\n",
       "      <td>500101.0</td>\n",
       "      <td>50010104.0</td>\n",
       "      <td>...</td>\n",
       "      <td>2.0</td>\n",
       "      <td>2.0</td>\n",
       "      <td>2.0</td>\n",
       "      <td>2.0</td>\n",
       "      <td>37.93103</td>\n",
       "      <td>27.27273</td>\n",
       "      <td>7.14286</td>\n",
       "      <td>0.00000</td>\n",
       "      <td>4.0</td>\n",
       "      <td>1.0</td>\n",
       "    </tr>\n",
       "    <tr>\n",
       "      <th>4</th>\n",
       "      <td>IRL</td>\n",
       "      <td>372.0</td>\n",
       "      <td>2.0</td>\n",
       "      <td>2.0</td>\n",
       "      <td>8.0</td>\n",
       "      <td>1.0</td>\n",
       "      <td>3.0</td>\n",
       "      <td>5001.0</td>\n",
       "      <td>500101.0</td>\n",
       "      <td>50010105.0</td>\n",
       "      <td>...</td>\n",
       "      <td>2.0</td>\n",
       "      <td>2.0</td>\n",
       "      <td>2.0</td>\n",
       "      <td>2.0</td>\n",
       "      <td>32.25806</td>\n",
       "      <td>54.83871</td>\n",
       "      <td>6.66667</td>\n",
       "      <td>6.66667</td>\n",
       "      <td>4.0</td>\n",
       "      <td>1.0</td>\n",
       "    </tr>\n",
       "  </tbody>\n",
       "</table>\n",
       "<p>5 rows × 511 columns</p>\n",
       "</div>"
      ],
      "text/plain": [
       "   CTY  IDCNTRY  IDPOP  IDGRADER  IDGRADE  ITASSESS  IDBOOK  IDSCHOOL  \\\n",
       "0  IRL    372.0    2.0       2.0      8.0       1.0     1.0    5001.0   \n",
       "1  IRL    372.0    2.0       2.0      8.0       1.0     9.0    5001.0   \n",
       "2  IRL    372.0    2.0       2.0      8.0       1.0     2.0    5001.0   \n",
       "3  IRL    372.0    2.0       2.0      8.0       1.0    10.0    5001.0   \n",
       "4  IRL    372.0    2.0       2.0      8.0       1.0     3.0    5001.0   \n",
       "\n",
       "    IDCLASS      IDSTUD  ...  BSDMLOWP  BSDSLOWP  BSDMZERP  BSDSZERP  \\\n",
       "0  500101.0  50010101.0  ...       2.0       2.0       2.0       2.0   \n",
       "1  500101.0  50010102.0  ...       2.0       2.0       2.0       2.0   \n",
       "2  500101.0  50010103.0  ...       2.0       2.0       2.0       2.0   \n",
       "3  500101.0  50010104.0  ...       2.0       2.0       2.0       2.0   \n",
       "4  500101.0  50010105.0  ...       2.0       2.0       2.0       2.0   \n",
       "\n",
       "   BSDMCORP  BSDSCORP  BSDMMISP  BSDSMISP  VERSION  SCOPE  \n",
       "0  72.72727  72.72727   0.00000   0.00000      4.0    1.0  \n",
       "1  60.71429  78.78788   0.00000   0.00000      4.0    1.0  \n",
       "2  16.12903  35.29412   0.00000   0.00000      4.0    1.0  \n",
       "3  37.93103  27.27273   7.14286   0.00000      4.0    1.0  \n",
       "4  32.25806  54.83871   6.66667   6.66667      4.0    1.0  \n",
       "\n",
       "[5 rows x 511 columns]"
      ]
     },
     "execution_count": 20,
     "metadata": {},
     "output_type": "execute_result"
    }
   ],
   "source": [
    "import pandas as pd\n",
    "import pyreadstat\n",
    "\n",
    "bsg_df, bsg_meta = pyreadstat.read_sav(\"orig/SPSS/bsgirlm8.sav\")\n",
    "\n",
    "bsa_df, bsa_meta = pyreadstat.read_sav(\"orig/SPSS/bsairlm8.sav\")\n",
    "\n",
    "bsg_df.head()\n",
    "# bsa_df.head()\n"
   ]
  },
  {
   "cell_type": "markdown",
   "metadata": {},
   "source": [
    "## Deliverable"
   ]
  },
  {
   "cell_type": "code",
   "execution_count": 6,
   "metadata": {},
   "outputs": [
    {
     "name": "stdout",
     "output_type": "stream",
     "text": [
      "Creating zip ... TIMSS_Dashboard.zip\n"
     ]
    }
   ],
   "source": [
    "target = f'TIMSS_Dashboard.zip'\n",
    "\n",
    "FILES_TO_UPLOAD = [\n",
    "    file for file in glob.iglob('T23_G8_-*.ipynb')\n",
    "] + [\n",
    "    file for file in glob.iglob('app/**',recursive=True) if '__pycache__' not in file\n",
    "]\n",
    "\n",
    "print(f\"Creating zip ... {target}\")\n",
    "\n",
    "with ZipFile(target,'w') as zip:\n",
    "    for file in FILES_TO_UPLOAD:\n",
    "        zip.write(file) "
   ]
  },
  {
   "cell_type": "code",
   "execution_count": null,
   "metadata": {},
   "outputs": [],
   "source": []
  }
 ],
 "metadata": {
  "kernelspec": {
   "display_name": "Python 3 (ipykernel)",
   "language": "python",
   "name": "python3"
  }
 },
 "nbformat": 4,
 "nbformat_minor": 2
}
